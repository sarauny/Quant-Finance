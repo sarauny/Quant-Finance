{
 "cells": [
  {
   "cell_type": "code",
   "execution_count": 7,
   "metadata": {},
   "outputs": [],
   "source": [
    "# Import packages used commonly\n",
    "from IPython.display import display\n",
    "import datetime\n",
    "import matplotlib.pyplot as plt\n",
    "import numpy as np\n",
    "import pandas as pd\n",
    "\n",
    "# Import supplementary visualizations code visuals.py\n",
    "from utils.tools import data_reader\n",
    "\n",
    "# Pretty display for notebooks\n",
    "%matplotlib inline"
   ]
  },
  {
   "cell_type": "code",
   "execution_count": 9,
   "metadata": {},
   "outputs": [
    {
     "name": "stdout",
     "output_type": "stream",
     "text": [
      "Retriving data for ['GOOGL', 'AMZN', 'BABA'] from iex\n",
      "5y\n"
     ]
    }
   ],
   "source": [
    "# Getting data of interest\n",
    "start = datetime.datetime(2015, 8, 16)\n",
    "end = datetime.datetime(2018, 8, 15)\n",
    "\n",
    "data_tech = data_reader(['GOOGL', 'AMZN', 'BABA'], start, end)"
   ]
  },
  {
   "cell_type": "code",
   "execution_count": 13,
   "metadata": {},
   "outputs": [
    {
     "data": {
      "text/html": [
       "<div>\n",
       "<style>\n",
       "    .dataframe thead tr:only-child th {\n",
       "        text-align: right;\n",
       "    }\n",
       "\n",
       "    .dataframe thead th {\n",
       "        text-align: left;\n",
       "    }\n",
       "\n",
       "    .dataframe tbody tr th {\n",
       "        vertical-align: top;\n",
       "    }\n",
       "</style>\n",
       "<table border=\"1\" class=\"dataframe\">\n",
       "  <thead>\n",
       "    <tr style=\"text-align: right;\">\n",
       "      <th></th>\n",
       "      <th>open</th>\n",
       "      <th>high</th>\n",
       "      <th>low</th>\n",
       "      <th>close</th>\n",
       "      <th>volume</th>\n",
       "    </tr>\n",
       "    <tr>\n",
       "      <th>date</th>\n",
       "      <th></th>\n",
       "      <th></th>\n",
       "      <th></th>\n",
       "      <th></th>\n",
       "      <th></th>\n",
       "    </tr>\n",
       "  </thead>\n",
       "  <tbody>\n",
       "    <tr>\n",
       "      <th>2015-08-17</th>\n",
       "      <td>74.85</td>\n",
       "      <td>75.24</td>\n",
       "      <td>74.16</td>\n",
       "      <td>75.19</td>\n",
       "      <td>12677386</td>\n",
       "    </tr>\n",
       "    <tr>\n",
       "      <th>2015-08-18</th>\n",
       "      <td>74.05</td>\n",
       "      <td>75.13</td>\n",
       "      <td>73.73</td>\n",
       "      <td>73.88</td>\n",
       "      <td>11155139</td>\n",
       "    </tr>\n",
       "    <tr>\n",
       "      <th>2015-08-19</th>\n",
       "      <td>73.15</td>\n",
       "      <td>73.56</td>\n",
       "      <td>72.81</td>\n",
       "      <td>73.12</td>\n",
       "      <td>18174057</td>\n",
       "    </tr>\n",
       "    <tr>\n",
       "      <th>2015-08-20</th>\n",
       "      <td>71.98</td>\n",
       "      <td>72.78</td>\n",
       "      <td>70.03</td>\n",
       "      <td>70.32</td>\n",
       "      <td>20995615</td>\n",
       "    </tr>\n",
       "    <tr>\n",
       "      <th>2015-08-21</th>\n",
       "      <td>69.32</td>\n",
       "      <td>70.66</td>\n",
       "      <td>68.18</td>\n",
       "      <td>68.18</td>\n",
       "      <td>29128632</td>\n",
       "    </tr>\n",
       "  </tbody>\n",
       "</table>\n",
       "</div>"
      ],
      "text/plain": [
       "             open   high    low  close    volume\n",
       "date                                            \n",
       "2015-08-17  74.85  75.24  74.16  75.19  12677386\n",
       "2015-08-18  74.05  75.13  73.73  73.88  11155139\n",
       "2015-08-19  73.15  73.56  72.81  73.12  18174057\n",
       "2015-08-20  71.98  72.78  70.03  70.32  20995615\n",
       "2015-08-21  69.32  70.66  68.18  68.18  29128632"
      ]
     },
     "execution_count": 13,
     "metadata": {},
     "output_type": "execute_result"
    }
   ],
   "source": [
    "data_tech['BABA'][:5]"
   ]
  },
  {
   "cell_type": "code",
   "execution_count": null,
   "metadata": {
    "collapsed": true
   },
   "outputs": [],
   "source": []
  }
 ],
 "metadata": {
  "kernelspec": {
   "display_name": "Python 3",
   "language": "python",
   "name": "python3"
  },
  "language_info": {
   "codemirror_mode": {
    "name": "ipython",
    "version": 3
   },
   "file_extension": ".py",
   "mimetype": "text/x-python",
   "name": "python",
   "nbconvert_exporter": "python",
   "pygments_lexer": "ipython3",
   "version": "3.6.1"
  }
 },
 "nbformat": 4,
 "nbformat_minor": 2
}
